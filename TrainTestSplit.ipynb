{
 "cells": [
  {
   "cell_type": "code",
   "execution_count": 1,
   "metadata": {},
   "outputs": [],
   "source": [
    "import pandas as pd\n",
    "from sklearn.model_selection import train_test_split"
   ]
  },
  {
   "cell_type": "code",
   "execution_count": 2,
   "metadata": {},
   "outputs": [],
   "source": [
    "def split_data(df, name):\n",
    "    train_df, val_df = train_test_split(df, test_size=0.2, random_state=42)\n",
    "    train_df.to_csv('./Data/TrainingData/' + name + '_train.csv', index=False)\n",
    "    val_df.to_csv('./Data/ValidateData/' + name + '_val.csv', index=False)"
   ]
  },
  {
   "cell_type": "code",
   "execution_count": 3,
   "metadata": {},
   "outputs": [],
   "source": [
    "tfidf_data = pd.read_csv('./Data/all_tfidf_vector.csv')\n",
    "tfidf_data['source'] = tfidf_data['source'].apply(lambda x: 1 if x == 'ptt' else 0)\n",
    "tfidf_data.set_index('Unnamed: 0', inplace=True)\n",
    "tfidf_data.index.name = None\n",
    "split_data(tfidf_data, 'tfidf')"
   ]
  },
  {
   "cell_type": "code",
   "execution_count": 4,
   "metadata": {},
   "outputs": [],
   "source": [
    "word2vec_data = pd.read_csv('./Data/all_word2vec_vector.csv')\n",
    "word2vec_data['source'] = word2vec_data['source'].apply(lambda x: 1 if x == 'ptt' else 0)\n",
    "word2vec_data.set_index('Unnamed: 0', inplace=True)\n",
    "word2vec_data.index.name = None\n",
    "split_data(word2vec_data, 'word2vec')"
   ]
  },
  {
   "cell_type": "code",
   "execution_count": 5,
   "metadata": {},
   "outputs": [],
   "source": [
    "bert_data = pd.read_csv(\"./Data/all_bert_vector.csv\")\n",
    "bert_data['source'] = bert_data['source'].apply(lambda x: 1 if x == 'ptt' else 0)\n",
    "split_data(bert_data, 'bert')"
   ]
  }
 ],
 "metadata": {
  "kernelspec": {
   "display_name": "forPttCrawler",
   "language": "python",
   "name": "python3"
  },
  "language_info": {
   "codemirror_mode": {
    "name": "ipython",
    "version": 3
   },
   "file_extension": ".py",
   "mimetype": "text/x-python",
   "name": "python",
   "nbconvert_exporter": "python",
   "pygments_lexer": "ipython3",
   "version": "3.10.13"
  }
 },
 "nbformat": 4,
 "nbformat_minor": 2
}
