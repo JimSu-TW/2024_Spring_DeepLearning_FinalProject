{
 "cells": [
  {
   "cell_type": "code",
   "execution_count": 1,
   "metadata": {},
   "outputs": [],
   "source": [
    "import zipfile\n",
    "import os\n",
    "\n",
    "def compress_csv(file_path):\n",
    "    # 檢查文件是否存在\n",
    "    if not os.path.exists(file_path):\n",
    "        print(f\"文件 {file_path} 不存在。\")\n",
    "        return\n",
    "\n",
    "    # 壓縮文件\n",
    "    file_name = file_path.replace('.csv', '')\n",
    "    zip_file_path = file_name + '.zip'\n",
    "    with zipfile.ZipFile(zip_file_path, 'w', zipfile.ZIP_DEFLATED) as zipf:\n",
    "        zipf.write(file_path, os.path.basename(file_path))\n",
    "    print(f\"文件已壓縮為 {zip_file_path}\")"
   ]
  },
  {
   "cell_type": "code",
   "execution_count": 2,
   "metadata": {},
   "outputs": [],
   "source": [
    "def decompress_csv(zip_file_path):\n",
    "    # 檢查壓縮文件是否存在\n",
    "    if not os.path.exists(zip_file_path):\n",
    "        print(f\"壓縮文件 {zip_file_path} 不存在。\")\n",
    "        return\n",
    "\n",
    "    # 解壓縮文件\n",
    "    with zipfile.ZipFile(zip_file_path, 'r') as zipf:\n",
    "        zipf.extractall(os.path.dirname(zip_file_path))\n",
    "    print(f\"文件已解壓縮至 {os.path.dirname(zip_file_path)}\")"
   ]
  },
  {
   "cell_type": "code",
   "execution_count": 3,
   "metadata": {},
   "outputs": [
    {
     "name": "stdout",
     "output_type": "stream",
     "text": [
      "文件已壓縮為 ./Data/ChatGPT/gpt_tfidf_vector_back.zip\n"
     ]
    }
   ],
   "source": [
    "compress_csv('./Data/ChatGPT/gpt_tfidf_vector_back.csv')"
   ]
  },
  {
   "cell_type": "code",
   "execution_count": 4,
   "metadata": {},
   "outputs": [
    {
     "name": "stdout",
     "output_type": "stream",
     "text": [
      "文件已壓縮為 ./Data/all_tfidf_vector.zip\n"
     ]
    }
   ],
   "source": [
    "compress_csv('./Data/all_tfidf_vector.csv')"
   ]
  }
 ],
 "metadata": {
  "kernelspec": {
   "display_name": "forPttCrawler",
   "language": "python",
   "name": "python3"
  },
  "language_info": {
   "codemirror_mode": {
    "name": "ipython",
    "version": 3
   },
   "file_extension": ".py",
   "mimetype": "text/x-python",
   "name": "python",
   "nbconvert_exporter": "python",
   "pygments_lexer": "ipython3",
   "version": "3.10.13"
  }
 },
 "nbformat": 4,
 "nbformat_minor": 2
}
