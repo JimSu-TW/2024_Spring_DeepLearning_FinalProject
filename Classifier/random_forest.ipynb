{
 "cells": [
  {
   "cell_type": "code",
   "execution_count": 1,
   "metadata": {},
   "outputs": [
    {
     "data": {
      "text/plain": [
       "'cuda'"
      ]
     },
     "execution_count": 1,
     "metadata": {},
     "output_type": "execute_result"
    }
   ],
   "source": [
    "import pandas as pd\n",
    "import torch\n",
    "import torch.nn as nn\n",
    "import torch.optim as optim\n",
    "from sklearn.model_selection import train_test_split\n",
    "from sklearn.preprocessing import StandardScaler\n",
    "import joblib\n",
    "from sklearn.metrics import confusion_matrix, classification_report\n",
    "from sklearn.ensemble import RandomForestClassifier\n",
    "from sklearn.model_selection import cross_val_score\n",
    "import numpy as np\n",
    "\n",
    "\n",
    "# set device to gpu\n",
    "device = (\n",
    "\"cuda\"\n",
    "if torch.cuda.is_available()\n",
    "else \"mps\"\n",
    "if torch.backends.mps.is_available()\n",
    "else \"cpu\"\n",
    ")\n",
    "device"
   ]
  },
  {
   "cell_type": "code",
   "execution_count": 14,
   "metadata": {},
   "outputs": [],
   "source": [
    "tfidf_train_data = pd.read_csv('../Data/TrainingData/tfidf_train.csv')\n",
    "tfidf_val_data = pd.read_csv('../Data/ValidateData/tfidf_val.csv')\n",
    "word2vec_train_data = pd.read_csv('../Data/TrainingData/word2vec_train.csv')\n",
    "word2vec_val_data = pd.read_csv('../Data/ValidateData/word2vec_val.csv')\n",
    "bert_train_data = pd.read_csv('../Data/TrainingData/bert_train.csv')\n",
    "bert_val_data = pd.read_csv('../Data/ValidateData/bert_val.csv')"
   ]
  },
  {
   "cell_type": "code",
   "execution_count": 15,
   "metadata": {},
   "outputs": [
    {
     "data": {
      "text/plain": [
       "[]"
      ]
     },
     "execution_count": 15,
     "metadata": {},
     "output_type": "execute_result"
    }
   ],
   "source": [
    "spike_cols = [col for col in tfidf_val_data.columns if '食記' in col]\n",
    "spike_cols"
   ]
  },
  {
   "cell_type": "code",
   "execution_count": 16,
   "metadata": {},
   "outputs": [],
   "source": [
    "def separator(count = 50):\n",
    "    print('-'*count)\n",
    "\n",
    "def train_rf_model(df, scaler_path):\n",
    "    data = df.copy()\n",
    "    y = data.pop('source')  # 假設標籤列名為 'label'\n",
    "    \n",
    "    # 標準化數據\n",
    "    scaler = StandardScaler()\n",
    "    X_scaled = scaler.fit_transform(data.values)\n",
    "    # 保存標準化器\n",
    "    joblib.dump(scaler, scaler_path)\n",
    "\n",
    "    # 分割數據集\n",
    "    X_train, X_test, y_train, y_test = train_test_split(X_scaled, y, test_size=0.2, random_state=42)\n",
    "\n",
    "    # # 將數據轉換為 PyTorch 張量並移動到 GPU\n",
    "    # X_train_tensor = torch.tensor(X_train, dtype=torch.float32).to(device)\n",
    "    # X_test_tensor = torch.tensor(X_test, dtype=torch.float32).to(device)\n",
    "    # y_train_tensor = torch.tensor(y_train.values, dtype=torch.float32).view(-1, 1).to(device)\n",
    "    # y_test_tensor = torch.tensor(y_test.values, dtype=torch.float32).view(-1, 1).to(device)\n",
    "\n",
    "\n",
    "    model = RandomForestClassifier()\n",
    "\n",
    "    print(data.shape)\n",
    "    print(X_train.shape)\n",
    "\n",
    "    model.fit(X_train, y_train)\n",
    "\n",
    "    y_score = model.fit(X_train, y_train).predict_proba(X_test)\n",
    "\n",
    "    cv_scores = cross_val_score(model, X_train, y_train, cv=5)\n",
    "\n",
    "    print(cv_scores)\n",
    "\n",
    "    # score train and test sets\n",
    "    scoreTrain = model.score(X_train, y_train)\n",
    "    scoreTest = model.score(X_test, y_test)\n",
    "\n",
    "    # predict the test data\n",
    "    predict_test = model.predict(X_test)\n",
    "\n",
    "\n",
    "    cm_result = confusion_matrix(y_test, predict_test)\n",
    "    cr_result = classification_report(y_test,predict_test)\n",
    "\n",
    "    model_name = str(model).split('(')[0]\n",
    "\n",
    "    # print model name in blue color\n",
    "    print('\\033[1m' + model_name + '\\033[0m')\n",
    "    # print -----------------------------------\n",
    "    separator()\n",
    "    print('Train Score for '+str(model_name)+': ', (scoreTrain))\n",
    "    separator()\n",
    "    print('Test Score for '+str(model_name)+': ', (scoreTest))\n",
    "    separator()\n",
    "    print('Confusion Matrix for '+str(model_name)+' for test : \\n', (cm_result))\n",
    "    separator()\n",
    "    print('Classification Report for '+str(model_name)+' for test : \\n', str(cr_result))\n",
    "    separator()\n",
    "\n",
    "    feature_importance = np.array(model.feature_importances_)\n",
    "    # print(len(list(data.iloc[:, :-1].columns)))\n",
    "    # print(len(feature_importance))\n",
    "    rank_of_coef = pd.DataFrame({'coef_name': list(data.columns), 'feature_importance': feature_importance })\n",
    "    print(rank_of_coef.sort_values(by=['feature_importance'], ascending=False).head(n=20))\n",
    "    # 保存整個模型\n",
    "    # torch.save(model, model_path)\n",
    "    return model"
   ]
  },
  {
   "cell_type": "code",
   "execution_count": 17,
   "metadata": {},
   "outputs": [
    {
     "name": "stdout",
     "output_type": "stream",
     "text": [
      "(1610, 37675)\n",
      "(1288, 37675)\n",
      "[1.         0.99612403 0.99224806 0.99610895 0.9922179 ]\n",
      "\u001b[1mRandomForestClassifier\u001b[0m\n",
      "--------------------------------------------------\n",
      "Train Score for RandomForestClassifier:  1.0\n",
      "--------------------------------------------------\n",
      "Test Score for RandomForestClassifier:  1.0\n",
      "--------------------------------------------------\n",
      "Confusion Matrix for RandomForestClassifier for test : \n",
      " [[157   0]\n",
      " [  0 165]]\n",
      "--------------------------------------------------\n",
      "Classification Report for RandomForestClassifier for test : \n",
      "               precision    recall  f1-score   support\n",
      "\n",
      "           0       1.00      1.00      1.00       157\n",
      "           1       1.00      1.00      1.00       165\n",
      "\n",
      "    accuracy                           1.00       322\n",
      "   macro avg       1.00      1.00      1.00       322\n",
      "weighted avg       1.00      1.00      1.00       322\n",
      "\n",
      "--------------------------------------------------\n",
      "      coef_name  feature_importance\n",
      "25972        舒適            0.024614\n",
      "6443         圖文            0.023481\n",
      "31303        週日            0.020845\n",
      "18725        溫馨            0.017121\n",
      "5849         品嚐            0.014967\n",
      "25018        美食            0.014819\n",
      "12015        感受            0.014160\n",
      "24932        美味            0.013690\n",
      "2965         刷卡            0.013173\n",
      "10223        平價            0.013100\n",
      "6255         回味            0.011523\n",
      "2762         分享            0.011307\n",
      "3775         包廂            0.009961\n",
      "2020         價位            0.009579\n",
      "28313        親民            0.009312\n",
      "764          享受            0.009109\n",
      "15121        服務            0.008772\n",
      "2035         價格            0.008549\n",
      "36173        體驗            0.008373\n",
      "27973        裝潢            0.008335\n"
     ]
    }
   ],
   "source": [
    "model = train_rf_model(tfidf_train_data, '../Data/Model/tfidf_scaler.pkl')"
   ]
  },
  {
   "cell_type": "code",
   "execution_count": 21,
   "metadata": {},
   "outputs": [
    {
     "name": "stdout",
     "output_type": "stream",
     "text": [
      "(1610, 50)\n",
      "(1288, 50)\n",
      "[0.98837209 0.96124031 0.96511628 0.96498054 0.9688716 ]\n",
      "\u001b[1mRandomForestClassifier\u001b[0m\n",
      "--------------------------------------------------\n",
      "Train Score for RandomForestClassifier:  1.0\n",
      "--------------------------------------------------\n",
      "Test Score for RandomForestClassifier:  0.9906832298136646\n",
      "--------------------------------------------------\n",
      "Confusion Matrix for RandomForestClassifier for test : \n",
      " [[156   1]\n",
      " [  2 163]]\n",
      "--------------------------------------------------\n",
      "Classification Report for RandomForestClassifier for test : \n",
      "               precision    recall  f1-score   support\n",
      "\n",
      "           0       0.99      0.99      0.99       157\n",
      "           1       0.99      0.99      0.99       165\n",
      "\n",
      "    accuracy                           0.99       322\n",
      "   macro avg       0.99      0.99      0.99       322\n",
      "weighted avg       0.99      0.99      0.99       322\n",
      "\n",
      "--------------------------------------------------\n",
      "   coef_name  feature_importance\n",
      "27       v27            0.136343\n",
      "5         v5            0.113834\n",
      "41       v41            0.099576\n",
      "49       v49            0.077473\n",
      "11       v11            0.076495\n",
      "10       v10            0.063552\n",
      "36       v36            0.057092\n",
      "26       v26            0.049111\n",
      "37       v37            0.038751\n",
      "14       v14            0.034238\n",
      "33       v33            0.026956\n",
      "46       v46            0.023447\n",
      "16       v16            0.017262\n",
      "9         v9            0.015220\n",
      "30       v30            0.015044\n",
      "24       v24            0.011847\n",
      "20       v20            0.009226\n",
      "19       v19            0.008487\n",
      "48       v48            0.007503\n",
      "35       v35            0.007178\n"
     ]
    }
   ],
   "source": [
    "model = train_rf_model(word2vec_train_data,  '../Data/Model/tfidf_scaler.pkl')"
   ]
  },
  {
   "cell_type": "code",
   "execution_count": 22,
   "metadata": {},
   "outputs": [
    {
     "name": "stdout",
     "output_type": "stream",
     "text": [
      "(1610, 768)\n",
      "(1288, 768)\n",
      "[0.99224806 0.99612403 0.99612403 0.99610895 0.99610895]\n",
      "\u001b[1mRandomForestClassifier\u001b[0m\n",
      "--------------------------------------------------\n",
      "Train Score for RandomForestClassifier:  1.0\n",
      "--------------------------------------------------\n",
      "Test Score for RandomForestClassifier:  1.0\n",
      "--------------------------------------------------\n",
      "Confusion Matrix for RandomForestClassifier for test : \n",
      " [[157   0]\n",
      " [  0 165]]\n",
      "--------------------------------------------------\n",
      "Classification Report for RandomForestClassifier for test : \n",
      "               precision    recall  f1-score   support\n",
      "\n",
      "           0       1.00      1.00      1.00       157\n",
      "           1       1.00      1.00      1.00       165\n",
      "\n",
      "    accuracy                           1.00       322\n",
      "   macro avg       1.00      1.00      1.00       322\n",
      "weighted avg       1.00      1.00      1.00       322\n",
      "\n",
      "--------------------------------------------------\n",
      "    coef_name  feature_importance\n",
      "216      v216            0.054453\n",
      "423      v423            0.045407\n",
      "243      v243            0.034194\n",
      "536      v536            0.033655\n",
      "404      v404            0.030250\n",
      "310      v310            0.027393\n",
      "695      v695            0.022673\n",
      "486      v486            0.022336\n",
      "305      v305            0.020066\n",
      "147      v147            0.018890\n",
      "704      v704            0.018876\n",
      "721      v721            0.017020\n",
      "194      v194            0.016471\n",
      "198      v198            0.016227\n",
      "756      v756            0.015787\n",
      "212      v212            0.014970\n",
      "485      v485            0.014411\n",
      "566      v566            0.014344\n",
      "293      v293            0.012840\n",
      "259      v259            0.012540\n"
     ]
    }
   ],
   "source": [
    "model = train_rf_model(bert_train_data,'../Data/Model/tfidf_scaler.pkl')"
   ]
  },
  {
   "cell_type": "code",
   "execution_count": 20,
   "metadata": {},
   "outputs": [],
   "source": [
    "def evaluate_on_new_data(model, scaler, new_data):\n",
    "    data = new_data.copy()\n",
    "    y_new = data.pop('source')  # 假設標籤列名為 'label'\n",
    "    X_new_scaled = scaler.transform(data.values)\n",
    "\n",
    "    # 將數據轉換為 PyTorch 張量並移動到 GPU\n",
    "    X_new_tensor = torch.tensor(X_new_scaled, dtype=torch.float32).to(device)\n",
    "    y_new_tensor = torch.tensor(y_new.values, dtype=torch.float32).view(-1, 1).to(device)\n",
    "\n",
    "    # 測試模型並計算 R² Score\n",
    "    model.eval()\n",
    "    with torch.no_grad():\n",
    "        y_pred_new = model(X_new_tensor).cpu().numpy()\n",
    "        y_new_numpy = y_new_tensor.cpu().numpy()\n",
    "\n",
    "        new_r2 = r2_score(y_new_numpy, y_pred_new)\n",
    "\n",
    "    print(f'New Data R² Score: {new_r2:.4f}')"
   ]
  },
  {
   "cell_type": "code",
   "execution_count": 5,
   "metadata": {},
   "outputs": [
    {
     "name": "stderr",
     "output_type": "stream",
     "text": [
      "/Users/jim/anaconda3/envs/forDeepLearning/lib/python3.10/site-packages/tqdm/auto.py:21: TqdmWarning: IProgress not found. Please update jupyter and ipywidgets. See https://ipywidgets.readthedocs.io/en/stable/user_install.html\n",
      "  from .autonotebook import tqdm as notebook_tqdm\n"
     ]
    },
    {
     "name": "stdout",
     "output_type": "stream",
     "text": [
      "Epoch [10/100], Loss: 0.0090\n",
      "Epoch [20/100], Loss: 0.0000\n",
      "Epoch [30/100], Loss: 0.0000\n",
      "Epoch [40/100], Loss: 0.0000\n",
      "Epoch [50/100], Loss: 0.0000\n",
      "Epoch [60/100], Loss: 0.0000\n",
      "Epoch [70/100], Loss: 0.0000\n",
      "Epoch [80/100], Loss: 0.0000\n",
      "Epoch [90/100], Loss: 0.0000\n",
      "Epoch [100/100], Loss: 0.0000\n",
      "Train R² Score: 1.0000\n",
      "Test R² Score: 0.8957\n",
      "New Data R² Score: 0.9193\n"
     ]
    }
   ],
   "source": [
    "model, scaler = train_mlp_model(tfidf_train_data, '../Data/Model/tfidf_mlp_model.pth', '../Data/Model/tfidf_scaler.pkl')\n",
    "evaluate_on_new_data(model, scaler, tfidf_val_data)"
   ]
  },
  {
   "cell_type": "code",
   "execution_count": 6,
   "metadata": {},
   "outputs": [
    {
     "name": "stdout",
     "output_type": "stream",
     "text": [
      "Epoch [10/100], Loss: 0.0472\n",
      "Epoch [20/100], Loss: 0.0051\n",
      "Epoch [30/100], Loss: 0.0004\n",
      "Epoch [40/100], Loss: 0.0001\n",
      "Epoch [50/100], Loss: 0.0000\n",
      "Epoch [60/100], Loss: 0.0000\n",
      "Epoch [70/100], Loss: 0.0000\n",
      "Epoch [80/100], Loss: 0.0000\n",
      "Epoch [90/100], Loss: 0.0000\n",
      "Epoch [100/100], Loss: 0.0000\n",
      "Train R² Score: 1.0000\n",
      "Test R² Score: 0.9806\n",
      "New Data R² Score: 0.9357\n"
     ]
    }
   ],
   "source": [
    "model, scaler = train_mlp_model(word2vec_train_data, '../Data/Model/word2vec_mlp_model.pth', '../Data/Model/word2vec_scaler.pkl')\n",
    "evaluate_on_new_data(model, scaler, word2vec_val_data)"
   ]
  },
  {
   "cell_type": "code",
   "execution_count": 7,
   "metadata": {},
   "outputs": [
    {
     "name": "stdout",
     "output_type": "stream",
     "text": [
      "Epoch [10/100], Loss: 0.0005\n",
      "Epoch [20/100], Loss: 0.0000\n",
      "Epoch [30/100], Loss: 0.0000\n",
      "Epoch [40/100], Loss: 0.0000\n",
      "Epoch [50/100], Loss: 0.0000\n",
      "Epoch [60/100], Loss: 0.0000\n",
      "Epoch [70/100], Loss: 0.0000\n",
      "Epoch [80/100], Loss: 0.0000\n",
      "Epoch [90/100], Loss: 0.0000\n",
      "Epoch [100/100], Loss: 0.0000\n",
      "Train R² Score: 1.0000\n",
      "Test R² Score: 1.0000\n",
      "New Data R² Score: 1.0000\n"
     ]
    }
   ],
   "source": [
    "model, scaler = train_mlp_model(bert_train_data, '../Data/Model/bert_mlp_model.pth', '../Data/Model/bert_scaler.pkl')\n",
    "evaluate_on_new_data(model, scaler, bert_val_data)"
   ]
  }
 ],
 "metadata": {
  "kernelspec": {
   "display_name": "forDeepLearning",
   "language": "python",
   "name": "python3"
  },
  "language_info": {
   "codemirror_mode": {
    "name": "ipython",
    "version": 3
   },
   "file_extension": ".py",
   "mimetype": "text/x-python",
   "name": "python",
   "nbconvert_exporter": "python",
   "pygments_lexer": "ipython3",
   "version": "3.8.19"
  }
 },
 "nbformat": 4,
 "nbformat_minor": 2
}
