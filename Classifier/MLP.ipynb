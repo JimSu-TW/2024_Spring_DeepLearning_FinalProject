{
 "cells": [
  {
   "cell_type": "code",
   "execution_count": 1,
   "metadata": {},
   "outputs": [
    {
     "data": {
      "text/plain": [
       "'mps'"
      ]
     },
     "execution_count": 1,
     "metadata": {},
     "output_type": "execute_result"
    }
   ],
   "source": [
    "import pandas as pd\n",
    "import torch\n",
    "import torch.nn as nn\n",
    "import torch.optim as optim\n",
    "from sklearn.model_selection import train_test_split\n",
    "from sklearn.preprocessing import StandardScaler\n",
    "from sklearn.metrics import r2_score\n",
    "import joblib\n",
    "\n",
    "# set device to gpu\n",
    "device = (\n",
    "\"cuda\"\n",
    "if torch.cuda.is_available()\n",
    "else \"mps\"\n",
    "if torch.backends.mps.is_available()\n",
    "else \"cpu\"\n",
    ")\n",
    "device"
   ]
  },
  {
   "cell_type": "code",
   "execution_count": 2,
   "metadata": {},
   "outputs": [],
   "source": [
    "tfidf_train_data = pd.read_csv('../Data/TrainingData/tfidf_train.csv')\n",
    "tfidf_val_data = pd.read_csv('../Data/ValidateData/tfidf_val.csv')\n",
    "word2vec_train_data = pd.read_csv('../Data/TrainingData/word2vec_train.csv')\n",
    "word2vec_val_data = pd.read_csv('../Data/ValidateData/word2vec_val.csv')\n",
    "bert_train_data = pd.read_csv('../Data/TrainingData/bert_train.csv')\n",
    "bert_val_data = pd.read_csv('../Data/ValidateData/bert_val.csv')"
   ]
  },
  {
   "cell_type": "code",
   "execution_count": 3,
   "metadata": {},
   "outputs": [],
   "source": [
    "def train_mlp_model(df, model_path, scaler_path):\n",
    "    data = df.copy()\n",
    "    y = data.pop('source')  # 假設標籤列名為 'label'\n",
    "    \n",
    "    # 標準化數據\n",
    "    scaler = StandardScaler()\n",
    "    X_scaled = scaler.fit_transform(data.values)\n",
    "    # 保存標準化器\n",
    "    joblib.dump(scaler, scaler_path)\n",
    "\n",
    "    # 分割數據集\n",
    "    X_train, X_test, y_train, y_test = train_test_split(X_scaled, y, test_size=0.2, random_state=42)\n",
    "\n",
    "    # 將數據轉換為 PyTorch 張量並移動到 GPU\n",
    "    X_train_tensor = torch.tensor(X_train, dtype=torch.float32).to(device)\n",
    "    X_test_tensor = torch.tensor(X_test, dtype=torch.float32).to(device)\n",
    "    y_train_tensor = torch.tensor(y_train.values, dtype=torch.float32).view(-1, 1).to(device)\n",
    "    y_test_tensor = torch.tensor(y_test.values, dtype=torch.float32).view(-1, 1).to(device)\n",
    "\n",
    "\n",
    "    # 建立 MLP 模型\n",
    "    input_size = X_train_tensor.shape[1]\n",
    "    model = nn.Sequential(\n",
    "        nn.Linear(input_size, 1024),\n",
    "        nn.ReLU(),\n",
    "        nn.Linear(1024, 512),\n",
    "        nn.ReLU(),\n",
    "        nn.Linear(512, 256),\n",
    "        nn.ReLU(),\n",
    "        nn.Linear(256, 1),\n",
    "        nn.Sigmoid()\n",
    "    ).to(device)\n",
    "\n",
    "    # 定義損失函數和優化器\n",
    "    criterion = nn.BCELoss()\n",
    "    optimizer = optim.Adam(model.parameters(), lr=0.001)\n",
    "\n",
    "    # 訓練模型\n",
    "    num_epochs = 100\n",
    "    for epoch in range(num_epochs):\n",
    "        model.train()\n",
    "        optimizer.zero_grad()\n",
    "        outputs = model(X_train_tensor)\n",
    "        loss = criterion(outputs, y_train_tensor)\n",
    "        loss.backward()\n",
    "        optimizer.step()\n",
    "        \n",
    "        if (epoch+1) % 10 == 0:\n",
    "            print(f'Epoch [{epoch+1}/{num_epochs}], Loss: {loss.item():.4f}')\n",
    "\n",
    "    # 測試模型並計算 R² Score\n",
    "    model.eval()\n",
    "    with torch.no_grad():\n",
    "        y_pred_train = model(X_train_tensor).cpu().numpy()\n",
    "        y_pred_test = model(X_test_tensor).cpu().numpy()\n",
    "\n",
    "        y_train_numpy = y_train_tensor.cpu().numpy()\n",
    "        y_test_numpy = y_test_tensor.cpu().numpy()\n",
    "\n",
    "        train_r2 = r2_score(y_train_numpy, y_pred_train)\n",
    "        test_r2 = r2_score(y_test_numpy, y_pred_test)\n",
    "\n",
    "\n",
    "    print(f'Train R² Score: {train_r2:.4f}')\n",
    "    print(f'Test R² Score: {test_r2:.4f}')\n",
    "\n",
    "    # 保存整個模型\n",
    "    torch.save(model, model_path)\n",
    "    return model, scaler"
   ]
  },
  {
   "cell_type": "code",
   "execution_count": 4,
   "metadata": {},
   "outputs": [],
   "source": [
    "def evaluate_on_new_data(model, scaler, new_data):\n",
    "    data = new_data.copy()\n",
    "    y_new = data.pop('source')  # 假設標籤列名為 'label'\n",
    "    X_new_scaled = scaler.transform(data.values)\n",
    "\n",
    "    # 將數據轉換為 PyTorch 張量並移動到 GPU\n",
    "    X_new_tensor = torch.tensor(X_new_scaled, dtype=torch.float32).to(device)\n",
    "    y_new_tensor = torch.tensor(y_new.values, dtype=torch.float32).view(-1, 1).to(device)\n",
    "\n",
    "    # 測試模型並計算 R² Score\n",
    "    model.eval()\n",
    "    with torch.no_grad():\n",
    "        y_pred_new = model(X_new_tensor).cpu().numpy()\n",
    "        y_new_numpy = y_new_tensor.cpu().numpy()\n",
    "\n",
    "        new_r2 = r2_score(y_new_numpy, y_pred_new)\n",
    "\n",
    "    print(f'New Data R² Score: {new_r2:.4f}')"
   ]
  },
  {
   "cell_type": "code",
   "execution_count": 5,
   "metadata": {},
   "outputs": [
    {
     "name": "stderr",
     "output_type": "stream",
     "text": [
      "/Users/jim/anaconda3/envs/forDeepLearning/lib/python3.10/site-packages/tqdm/auto.py:21: TqdmWarning: IProgress not found. Please update jupyter and ipywidgets. See https://ipywidgets.readthedocs.io/en/stable/user_install.html\n",
      "  from .autonotebook import tqdm as notebook_tqdm\n"
     ]
    },
    {
     "name": "stdout",
     "output_type": "stream",
     "text": [
      "Epoch [10/100], Loss: 0.0090\n",
      "Epoch [20/100], Loss: 0.0000\n",
      "Epoch [30/100], Loss: 0.0000\n",
      "Epoch [40/100], Loss: 0.0000\n",
      "Epoch [50/100], Loss: 0.0000\n",
      "Epoch [60/100], Loss: 0.0000\n",
      "Epoch [70/100], Loss: 0.0000\n",
      "Epoch [80/100], Loss: 0.0000\n",
      "Epoch [90/100], Loss: 0.0000\n",
      "Epoch [100/100], Loss: 0.0000\n",
      "Train R² Score: 1.0000\n",
      "Test R² Score: 0.8957\n",
      "New Data R² Score: 0.9193\n"
     ]
    }
   ],
   "source": [
    "model, scaler = train_mlp_model(tfidf_train_data, '../Data/Model/tfidf_mlp_model.pth', '../Data/Model/tfidf_scaler.pkl')\n",
    "evaluate_on_new_data(model, scaler, tfidf_val_data)"
   ]
  },
  {
   "cell_type": "code",
   "execution_count": 6,
   "metadata": {},
   "outputs": [
    {
     "name": "stdout",
     "output_type": "stream",
     "text": [
      "Epoch [10/100], Loss: 0.0472\n",
      "Epoch [20/100], Loss: 0.0051\n",
      "Epoch [30/100], Loss: 0.0004\n",
      "Epoch [40/100], Loss: 0.0001\n",
      "Epoch [50/100], Loss: 0.0000\n",
      "Epoch [60/100], Loss: 0.0000\n",
      "Epoch [70/100], Loss: 0.0000\n",
      "Epoch [80/100], Loss: 0.0000\n",
      "Epoch [90/100], Loss: 0.0000\n",
      "Epoch [100/100], Loss: 0.0000\n",
      "Train R² Score: 1.0000\n",
      "Test R² Score: 0.9806\n",
      "New Data R² Score: 0.9357\n"
     ]
    }
   ],
   "source": [
    "model, scaler = train_mlp_model(word2vec_train_data, '../Data/Model/word2vec_mlp_model.pth', '../Data/Model/word2vec_scaler.pkl')\n",
    "evaluate_on_new_data(model, scaler, word2vec_val_data)"
   ]
  },
  {
   "cell_type": "code",
   "execution_count": 7,
   "metadata": {},
   "outputs": [
    {
     "name": "stdout",
     "output_type": "stream",
     "text": [
      "Epoch [10/100], Loss: 0.0005\n",
      "Epoch [20/100], Loss: 0.0000\n",
      "Epoch [30/100], Loss: 0.0000\n",
      "Epoch [40/100], Loss: 0.0000\n",
      "Epoch [50/100], Loss: 0.0000\n",
      "Epoch [60/100], Loss: 0.0000\n",
      "Epoch [70/100], Loss: 0.0000\n",
      "Epoch [80/100], Loss: 0.0000\n",
      "Epoch [90/100], Loss: 0.0000\n",
      "Epoch [100/100], Loss: 0.0000\n",
      "Train R² Score: 1.0000\n",
      "Test R² Score: 1.0000\n",
      "New Data R² Score: 1.0000\n"
     ]
    }
   ],
   "source": [
    "model, scaler = train_mlp_model(bert_train_data, '../Data/Model/bert_mlp_model.pth', '../Data/Model/bert_scaler.pkl')\n",
    "evaluate_on_new_data(model, scaler, bert_val_data)"
   ]
  }
 ],
 "metadata": {
  "kernelspec": {
   "display_name": "forDeepLearning",
   "language": "python",
   "name": "python3"
  },
  "language_info": {
   "codemirror_mode": {
    "name": "ipython",
    "version": 3
   },
   "file_extension": ".py",
   "mimetype": "text/x-python",
   "name": "python",
   "nbconvert_exporter": "python",
   "pygments_lexer": "ipython3",
   "version": "3.10.13"
  }
 },
 "nbformat": 4,
 "nbformat_minor": 2
}
