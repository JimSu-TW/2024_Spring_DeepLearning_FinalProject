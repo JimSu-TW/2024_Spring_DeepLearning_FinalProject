{
 "cells": [
  {
   "cell_type": "code",
   "execution_count": 1,
   "metadata": {},
   "outputs": [
    {
     "data": {
      "text/plain": [
       "'cuda'"
      ]
     },
     "execution_count": 1,
     "metadata": {},
     "output_type": "execute_result"
    }
   ],
   "source": [
    "import pandas as pd\n",
    "import torch\n",
    "import torch.nn as nn\n",
    "import torch.optim as optim\n",
    "from sklearn.model_selection import train_test_split\n",
    "from sklearn.preprocessing import StandardScaler\n",
    "import joblib\n",
    "from sklearn.metrics import confusion_matrix, classification_report\n",
    "from sklearn.model_selection import cross_val_score\n",
    "import numpy as np\n",
    "from sklearn import svm\n",
    "\n",
    "\n",
    "# set device to gpu\n",
    "device = (\n",
    "\"cuda\"\n",
    "if torch.cuda.is_available()\n",
    "else \"mps\"\n",
    "if torch.backends.mps.is_available()\n",
    "else \"cpu\"\n",
    ")\n",
    "device"
   ]
  },
  {
   "cell_type": "code",
   "execution_count": 2,
   "metadata": {},
   "outputs": [],
   "source": [
    "tfidf_train_data = pd.read_csv('../Data/TrainingData/tfidf_train.csv')\n",
    "tfidf_val_data = pd.read_csv('../Data/ValidateData/tfidf_val.csv')\n",
    "word2vec_train_data = pd.read_csv('../Data/TrainingData/word2vec_train.csv')\n",
    "word2vec_val_data = pd.read_csv('../Data/ValidateData/word2vec_val.csv')\n",
    "bert_train_data = pd.read_csv('../Data/TrainingData/bert_train.csv')\n",
    "bert_val_data = pd.read_csv('../Data/ValidateData/bert_val.csv')"
   ]
  },
  {
   "cell_type": "code",
   "execution_count": 3,
   "metadata": {},
   "outputs": [
    {
     "data": {
      "text/plain": [
       "[]"
      ]
     },
     "execution_count": 3,
     "metadata": {},
     "output_type": "execute_result"
    }
   ],
   "source": [
    "spike_cols = [col for col in tfidf_val_data.columns if '食記' in col]\n",
    "spike_cols"
   ]
  },
  {
   "cell_type": "code",
   "execution_count": 9,
   "metadata": {},
   "outputs": [],
   "source": [
    "def separator(count = 50):\n",
    "    print('-'*count)\n",
    "\n",
    "def train_svm_model(df, scaler_path):\n",
    "    data = df.copy()\n",
    "    y = data.pop('source')  # 假設標籤列名為 'label'\n",
    "    \n",
    "    # 標準化數據\n",
    "    scaler = StandardScaler()\n",
    "    X_scaled = scaler.fit_transform(data.values)\n",
    "    # 保存標準化器\n",
    "    joblib.dump(scaler, scaler_path)\n",
    "\n",
    "    # 分割數據集\n",
    "    X_train, X_test, y_train, y_test = train_test_split(X_scaled, y, test_size=0.2, random_state=42)\n",
    "\n",
    "    # # 將數據轉換為 PyTorch 張量並移動到 GPU\n",
    "    # X_train_tensor = torch.tensor(X_train, dtype=torch.float32).to(device)\n",
    "    # X_test_tensor = torch.tensor(X_test, dtype=torch.float32).to(device)\n",
    "    # y_train_tensor = torch.tensor(y_train.values, dtype=torch.float32).view(-1, 1).to(device)\n",
    "    # y_test_tensor = torch.tensor(y_test.values, dtype=torch.float32).view(-1, 1).to(device)\n",
    "\n",
    "\n",
    "    # 建立 kernel='linear' 模型\n",
    "    model=svm.SVC(kernel='linear', C=1)\n",
    "    # 使用訓練資料訓練模型\n",
    "\n",
    "    print(data.shape)\n",
    "    print(X_train.shape)\n",
    "\n",
    "    model.fit(X_train, y_train)\n",
    "\n",
    "    # y_score = model.fit(X_train, y_train).predict_proba(X_test)\n",
    "\n",
    "    cv_scores = cross_val_score(model, X_train, y_train, cv=5)\n",
    "\n",
    "    print(cv_scores)\n",
    "\n",
    "    # score train and test sets\n",
    "    scoreTrain = model.score(X_train, y_train)\n",
    "    scoreTest = model.score(X_test, y_test)\n",
    "\n",
    "    # predict the test data\n",
    "    predict_test = model.predict(X_test)\n",
    "\n",
    "\n",
    "    cm_result = confusion_matrix(y_test, predict_test)\n",
    "    cr_result = classification_report(y_test,predict_test)\n",
    "\n",
    "    model_name = str(model).split('(')[0]\n",
    "\n",
    "    # print model name in blue color\n",
    "    print('\\033[1m' + model_name + '\\033[0m')\n",
    "    # print -----------------------------------\n",
    "    separator()\n",
    "    print('Train Score for '+str(model_name)+': ', (scoreTrain))\n",
    "    separator()\n",
    "    print('Test Score for '+str(model_name)+': ', (scoreTest))\n",
    "    separator()\n",
    "    print('Confusion Matrix for '+str(model_name)+' for test : \\n', (cm_result))\n",
    "    separator()\n",
    "    print('Classification Report for '+str(model_name)+' for test : \\n', str(cr_result))\n",
    "    separator()\n",
    "\n",
    "    # feature_importance = np.array(model.feature_importances_)\n",
    "    # # print(len(list(data.iloc[:, :-1].columns)))\n",
    "    # # print(len(feature_importance))\n",
    "    # rank_of_coef = pd.DataFrame({'coef_name': list(data.columns), 'feature_importance': feature_importance })\n",
    "    # print(rank_of_coef.sort_values(by=['feature_importance'], ascending=False).head(n=20))\n",
    "    # 保存整個模型\n",
    "    # torch.save(model, model_path)\n",
    "    return model"
   ]
  },
  {
   "cell_type": "code",
   "execution_count": 10,
   "metadata": {},
   "outputs": [
    {
     "name": "stdout",
     "output_type": "stream",
     "text": [
      "(1610, 37675)\n",
      "(1288, 37675)\n",
      "[0.96899225 0.95348837 0.97674419 0.9844358  0.97276265]\n",
      "\u001b[1mSVC\u001b[0m\n",
      "--------------------------------------------------\n",
      "Train Score for SVC:  1.0\n",
      "--------------------------------------------------\n",
      "Test Score for SVC:  0.984472049689441\n",
      "--------------------------------------------------\n",
      "Confusion Matrix for SVC for test : \n",
      " [[157   0]\n",
      " [  5 160]]\n",
      "--------------------------------------------------\n",
      "Classification Report for SVC for test : \n",
      "               precision    recall  f1-score   support\n",
      "\n",
      "           0       0.97      1.00      0.98       157\n",
      "           1       1.00      0.97      0.98       165\n",
      "\n",
      "    accuracy                           0.98       322\n",
      "   macro avg       0.98      0.98      0.98       322\n",
      "weighted avg       0.98      0.98      0.98       322\n",
      "\n",
      "--------------------------------------------------\n"
     ]
    }
   ],
   "source": [
    "model = train_svm_model(tfidf_train_data, '../Data/Model/tfidf_scaler.pkl')"
   ]
  },
  {
   "cell_type": "code",
   "execution_count": 11,
   "metadata": {},
   "outputs": [
    {
     "name": "stdout",
     "output_type": "stream",
     "text": [
      "(1610, 50)\n",
      "(1288, 50)\n",
      "[0.96899225 0.97674419 0.96124031 0.9844358  0.98054475]\n",
      "\u001b[1mSVC\u001b[0m\n",
      "--------------------------------------------------\n",
      "Train Score for SVC:  0.9968944099378882\n",
      "--------------------------------------------------\n",
      "Test Score for SVC:  0.9813664596273292\n",
      "--------------------------------------------------\n",
      "Confusion Matrix for SVC for test : \n",
      " [[154   3]\n",
      " [  3 162]]\n",
      "--------------------------------------------------\n",
      "Classification Report for SVC for test : \n",
      "               precision    recall  f1-score   support\n",
      "\n",
      "           0       0.98      0.98      0.98       157\n",
      "           1       0.98      0.98      0.98       165\n",
      "\n",
      "    accuracy                           0.98       322\n",
      "   macro avg       0.98      0.98      0.98       322\n",
      "weighted avg       0.98      0.98      0.98       322\n",
      "\n",
      "--------------------------------------------------\n"
     ]
    }
   ],
   "source": [
    "model = train_svm_model(word2vec_train_data,  '../Data/Model/tfidf_scaler.pkl')"
   ]
  },
  {
   "cell_type": "code",
   "execution_count": 12,
   "metadata": {},
   "outputs": [
    {
     "name": "stdout",
     "output_type": "stream",
     "text": [
      "(1610, 768)\n",
      "(1288, 768)\n",
      "[1.         0.98837209 0.99224806 0.99610895 1.        ]\n",
      "\u001b[1mSVC\u001b[0m\n",
      "--------------------------------------------------\n",
      "Train Score for SVC:  1.0\n",
      "--------------------------------------------------\n",
      "Test Score for SVC:  1.0\n",
      "--------------------------------------------------\n",
      "Confusion Matrix for SVC for test : \n",
      " [[157   0]\n",
      " [  0 165]]\n",
      "--------------------------------------------------\n",
      "Classification Report for SVC for test : \n",
      "               precision    recall  f1-score   support\n",
      "\n",
      "           0       1.00      1.00      1.00       157\n",
      "           1       1.00      1.00      1.00       165\n",
      "\n",
      "    accuracy                           1.00       322\n",
      "   macro avg       1.00      1.00      1.00       322\n",
      "weighted avg       1.00      1.00      1.00       322\n",
      "\n",
      "--------------------------------------------------\n"
     ]
    }
   ],
   "source": [
    "model = train_svm_model(bert_train_data,'../Data/Model/tfidf_scaler.pkl')"
   ]
  },
  {
   "cell_type": "code",
   "execution_count": 20,
   "metadata": {},
   "outputs": [],
   "source": [
    "def evaluate_on_new_data(model, scaler, new_data):\n",
    "    data = new_data.copy()\n",
    "    y_new = data.pop('source')  # 假設標籤列名為 'label'\n",
    "    X_new_scaled = scaler.transform(data.values)\n",
    "\n",
    "    # 將數據轉換為 PyTorch 張量並移動到 GPU\n",
    "    X_new_tensor = torch.tensor(X_new_scaled, dtype=torch.float32).to(device)\n",
    "    y_new_tensor = torch.tensor(y_new.values, dtype=torch.float32).view(-1, 1).to(device)\n",
    "\n",
    "    # 測試模型並計算 R² Score\n",
    "    model.eval()\n",
    "    with torch.no_grad():\n",
    "        y_pred_new = model(X_new_tensor).cpu().numpy()\n",
    "        y_new_numpy = y_new_tensor.cpu().numpy()\n",
    "\n",
    "        new_r2 = r2_score(y_new_numpy, y_pred_new)\n",
    "\n",
    "    print(f'New Data R² Score: {new_r2:.4f}')"
   ]
  },
  {
   "cell_type": "code",
   "execution_count": 5,
   "metadata": {},
   "outputs": [
    {
     "name": "stderr",
     "output_type": "stream",
     "text": [
      "/Users/jim/anaconda3/envs/forDeepLearning/lib/python3.10/site-packages/tqdm/auto.py:21: TqdmWarning: IProgress not found. Please update jupyter and ipywidgets. See https://ipywidgets.readthedocs.io/en/stable/user_install.html\n",
      "  from .autonotebook import tqdm as notebook_tqdm\n"
     ]
    },
    {
     "name": "stdout",
     "output_type": "stream",
     "text": [
      "Epoch [10/100], Loss: 0.0090\n",
      "Epoch [20/100], Loss: 0.0000\n",
      "Epoch [30/100], Loss: 0.0000\n",
      "Epoch [40/100], Loss: 0.0000\n",
      "Epoch [50/100], Loss: 0.0000\n",
      "Epoch [60/100], Loss: 0.0000\n",
      "Epoch [70/100], Loss: 0.0000\n",
      "Epoch [80/100], Loss: 0.0000\n",
      "Epoch [90/100], Loss: 0.0000\n",
      "Epoch [100/100], Loss: 0.0000\n",
      "Train R² Score: 1.0000\n",
      "Test R² Score: 0.8957\n",
      "New Data R² Score: 0.9193\n"
     ]
    }
   ],
   "source": [
    "model, scaler = train_mlp_model(tfidf_train_data, '../Data/Model/tfidf_mlp_model.pth', '../Data/Model/tfidf_scaler.pkl')\n",
    "evaluate_on_new_data(model, scaler, tfidf_val_data)"
   ]
  },
  {
   "cell_type": "code",
   "execution_count": 6,
   "metadata": {},
   "outputs": [
    {
     "name": "stdout",
     "output_type": "stream",
     "text": [
      "Epoch [10/100], Loss: 0.0472\n",
      "Epoch [20/100], Loss: 0.0051\n",
      "Epoch [30/100], Loss: 0.0004\n",
      "Epoch [40/100], Loss: 0.0001\n",
      "Epoch [50/100], Loss: 0.0000\n",
      "Epoch [60/100], Loss: 0.0000\n",
      "Epoch [70/100], Loss: 0.0000\n",
      "Epoch [80/100], Loss: 0.0000\n",
      "Epoch [90/100], Loss: 0.0000\n",
      "Epoch [100/100], Loss: 0.0000\n",
      "Train R² Score: 1.0000\n",
      "Test R² Score: 0.9806\n",
      "New Data R² Score: 0.9357\n"
     ]
    }
   ],
   "source": [
    "model, scaler = train_mlp_model(word2vec_train_data, '../Data/Model/word2vec_mlp_model.pth', '../Data/Model/word2vec_scaler.pkl')\n",
    "evaluate_on_new_data(model, scaler, word2vec_val_data)"
   ]
  },
  {
   "cell_type": "code",
   "execution_count": 7,
   "metadata": {},
   "outputs": [
    {
     "name": "stdout",
     "output_type": "stream",
     "text": [
      "Epoch [10/100], Loss: 0.0005\n",
      "Epoch [20/100], Loss: 0.0000\n",
      "Epoch [30/100], Loss: 0.0000\n",
      "Epoch [40/100], Loss: 0.0000\n",
      "Epoch [50/100], Loss: 0.0000\n",
      "Epoch [60/100], Loss: 0.0000\n",
      "Epoch [70/100], Loss: 0.0000\n",
      "Epoch [80/100], Loss: 0.0000\n",
      "Epoch [90/100], Loss: 0.0000\n",
      "Epoch [100/100], Loss: 0.0000\n",
      "Train R² Score: 1.0000\n",
      "Test R² Score: 1.0000\n",
      "New Data R² Score: 1.0000\n"
     ]
    }
   ],
   "source": [
    "model, scaler = train_mlp_model(bert_train_data, '../Data/Model/bert_mlp_model.pth', '../Data/Model/bert_scaler.pkl')\n",
    "evaluate_on_new_data(model, scaler, bert_val_data)"
   ]
  }
 ],
 "metadata": {
  "kernelspec": {
   "display_name": "forDeepLearning",
   "language": "python",
   "name": "python3"
  },
  "language_info": {
   "codemirror_mode": {
    "name": "ipython",
    "version": 3
   },
   "file_extension": ".py",
   "mimetype": "text/x-python",
   "name": "python",
   "nbconvert_exporter": "python",
   "pygments_lexer": "ipython3",
   "version": "3.8.19"
  }
 },
 "nbformat": 4,
 "nbformat_minor": 2
}
